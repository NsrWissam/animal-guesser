{
 "cells": [
  {
   "cell_type": "code",
<<<<<<< HEAD
   "execution_count": 8,
=======
   "execution_count": 93,
>>>>>>> master
   "metadata": {},
   "outputs": [],
   "source": [
    "from tkinter import font\n",
    "import tkinter\n",
    "import tkinter.ttk as tk\n",
    "\n",
    "def exit():\n",
    "    root.destroy()\n",
    "\n",
<<<<<<< HEAD
    "def show_game_frame():\n",
    "    home_menu.pack_forget()\n",
    "    game_frame.pack(fill=tkinter.BOTH, expand=1)\n",
    "    \n",
    "def show_home_frame():\n",
    "    game_frame.pack_forget()\n",
    "    home_menu.pack(fill=tkinter.BOTH, expand=1)\n",
    "    \n",
    "    \n",
    "################################\n",
    "#   Main program starts here   #\n",
    "################################   \n",
    "    \n",
=======
>>>>>>> master
    "root = tkinter.Tk()\n",
    "root.title(\"Animal Guesser\")\n",
    "root.geometry('400x300')\n",
    "\n",
<<<<<<< HEAD
    "# Define styling\n",
    "style = tk.Style()\n",
    "style.configure(\"exit.TButton\",    font=('Arial','12','bold'), foreground='red',        background='red')\n",
=======
    "style = tk.Style()\n",
    "style.configure(\"exit.TButton\",    font=('Arial','12','bold'), foreground='red', background='red')\n",
>>>>>>> master
    "style.configure(\"start.TButton\",   font=('Arial','12','bold'), foreground='dark green', background='green')\n",
    "style.configure(\"Game.TLabel\",     font=('Arial','16','bold'), foreground='green')\n",
    "style.configure(\"Game.Sub.TLabel\", font=('Arial','10','bold'), foreground='dark green')\n",
    "\n",
<<<<<<< HEAD
    "home_menu=tk.Frame(root, width=window_width, height=window_heigth)\n",
    "home_menu.pack()\n",
    "\n",
    "game_frame=tk.Frame(root, width=window_width, height=window_heigth)\n",
    "game_frame.pack()\n",
    "\n",
    "# building home menu (FRAME)\n",
    "gameLabel = tk.Label(home_menu,text = 'Animal Guesser', justify = tkinter.CENTER, style='Game.TLabel').pack(pady=(30,0))\n",
    "subLabel = tk.Label(home_menu, text = 'A game based on the Taboo board game..', justify=tkinter.CENTER, style='Game.Sub.TLabel')\n",
    "subLabel = subLabel.pack(pady=(5,70))\n",
    "button2 = tk.Button(home_menu,text='START GAME', width=15, style='start.TButton', command = show_game_frame).pack()\n",
    "button1 = tk.Button(home_menu,text='QUIT',       width=15, style='exit.TButton', command = exit).pack(pady=(20,20))\n",
    "    \n",
    "# building game (FRAME)\n",
    "gameLabel = tk.Label(game_frame,text = 'GAME TIME', justify = tkinter.CENTER, style='Game.TLabel').pack(pady=(30,0))\n",
    "button1 = tk.Button(game_frame,text='GO HOME', width=15, style='exit.TButton', command = show_home_frame).pack(pady=(20,20))\n",
    "\n",
    "game_frame.pack_forget()\n",
=======
    "# FOR NAVIGATING SCREENS: \n",
    "# https://stackoverflow.com/questions/11100380/solution-python3-tkinter-jump-from-one-window-to-another-with-back-and-next-but\n",
    "gameLabel = tk.Label(root,text = 'Animal Guesser', justify = CENTER, style='Game.TLabel').pack(pady=(30,0))\n",
    "subLabel = tk.Label(root, text = 'A game based on the Taboo board game..', justify=CENTER, style='Game.Sub.TLabel')\n",
    "subLabel = subLabel.pack(pady=(5,70))\n",
    "\n",
    "button2 = tk.Button(root,text='START GAME', width=15, style='start.TButton', command = ).pack()\n",
    "button1 = tk.Button(root,text='QUIT',       width=15, style='exit.TButton', command = exit).pack(pady=(20,20))\n",
>>>>>>> master
    "\n",
    "root.mainloop()\n",
    "\n",
    "\n",
    "# entry1 = tk.Entry(root, width = 30).pack()"
   ]
<<<<<<< HEAD
  },
  {
   "cell_type": "code",
   "execution_count": null,
   "metadata": {},
   "outputs": [],
   "source": []
=======
>>>>>>> master
  }
 ],
 "metadata": {
  "kernelspec": {
   "display_name": "Python 3",
   "language": "python",
   "name": "python3"
<<<<<<< HEAD
  },
  "language_info": {
   "codemirror_mode": {
    "name": "ipython",
    "version": 3
   },
   "file_extension": ".py",
   "mimetype": "text/x-python",
   "name": "python",
   "nbconvert_exporter": "python",
   "pygments_lexer": "ipython3",
   "version": "3.7.4"
=======
>>>>>>> master
  }
 },
 "nbformat": 4,
 "nbformat_minor": 2
}
