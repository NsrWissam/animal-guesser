{
 "cells": [
  {
   "cell_type": "code",
   "execution_count": 93,
   "metadata": {},
   "outputs": [],
   "source": [
    "from tkinter import font\n",
    "import tkinter\n",
    "import tkinter.ttk as tk\n",
    "\n",
    "def exit():\n",
    "    root.destroy()\n",
    "\n",
    "root = tkinter.Tk()\n",
    "root.title(\"Animal Guesser\")\n",
    "root.geometry('400x300')\n",
    "\n",
    "style = tk.Style()\n",
    "style.configure(\"exit.TButton\",    font=('Arial','12','bold'), foreground='red', background='red')\n",
    "style.configure(\"start.TButton\",   font=('Arial','12','bold'), foreground='dark green', background='green')\n",
    "style.configure(\"Game.TLabel\",     font=('Arial','16','bold'), foreground='green')\n",
    "style.configure(\"Game.Sub.TLabel\", font=('Arial','10','bold'), foreground='dark green')\n",
    "\n",
    "# FOR NAVIGATING SCREENS: \n",
    "# https://stackoverflow.com/questions/11100380/solution-python3-tkinter-jump-from-one-window-to-another-with-back-and-next-but\n",
    "gameLabel = tk.Label(root,text = 'Animal Guesser', justify = CENTER, style='Game.TLabel').pack(pady=(30,0))\n",
    "subLabel = tk.Label(root, text = 'A game based on the Taboo board game..', justify=CENTER, style='Game.Sub.TLabel')\n",
    "subLabel = subLabel.pack(pady=(5,70))\n",
    "\n",
    "button2 = tk.Button(root,text='START GAME', width=15, style='start.TButton', command = ).pack()\n",
    "button1 = tk.Button(root,text='QUIT',       width=15, style='exit.TButton', command = exit).pack(pady=(20,20))\n",
    "\n",
    "root.mainloop()\n",
    "\n",
    "\n",
    "# entry1 = tk.Entry(root, width = 30).pack()"
   ]
  }
 ],
 "metadata": {
  "kernelspec": {
   "display_name": "Python 3",
   "language": "python",
   "name": "python3"
  }
 },
 "nbformat": 4,
 "nbformat_minor": 2
}
